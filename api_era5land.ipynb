{
 "cells": [
  {
   "cell_type": "code",
   "execution_count": 1,
   "metadata": {},
   "outputs": [
    {
     "name": "stderr",
     "output_type": "stream",
     "text": [
      "2023-01-02 15:27:31,857 INFO Welcome to the CDS\n",
      "2023-01-02 15:27:31,857 INFO Sending request to https://cds.climate.copernicus.eu/api/v2/resources/reanalysis-era5-land\n",
      "2023-01-02 15:27:32,129 INFO Request is queued\n",
      "2023-01-02 15:27:33,400 INFO Request is running\n",
      "2023-01-02 15:27:54,540 INFO Request is completed\n",
      "2023-01-02 15:27:54,542 INFO Downloading https://download-0003-clone.copernicus-climate.eu/cache-compute-0003/cache/data1/adaptor.mars.internal-1672684073.950405-22829-1-89a0dbd4-0f06-4f54-9bc1-e6c41cb63b2f.zip to 10m_u_component_of_wind_12_2022.zip (734.3K)\n",
      "2023-01-02 15:27:57,780 INFO Download rate 226.9K/s\n",
      "2023-01-02 15:27:58,321 INFO Welcome to the CDS\n",
      "2023-01-02 15:27:58,323 INFO Sending request to https://cds.climate.copernicus.eu/api/v2/resources/reanalysis-era5-land\n",
      "2023-01-02 15:27:58,630 INFO Request is queued\n",
      "2023-01-02 15:27:59,903 INFO Request is running\n",
      "2023-01-02 15:28:21,527 INFO Request is completed\n",
      "2023-01-02 15:28:21,528 INFO Downloading https://download-0003-clone.copernicus-climate.eu/cache-compute-0003/cache/data1/adaptor.mars.internal-1672684099.344203-12129-10-1f54fdc5-f353-4572-abd9-3fa30e2c3def.zip to 10m_v_component_of_wind_12_2022.zip (730.3K)\n",
      "2023-01-02 15:28:25,472 INFO Download rate 185.2K/s\n"
     ]
    }
   ],
   "source": [
    "import cdsapi\n",
    "\n",
    "c = cdsapi.Client()\n",
    "variaveis = ['surface_solar_radiation_downwards',\n",
    "             '10m_u_component_of_wind', '10m_v_component_of_wind',\n",
    "             '2m_temperature', 'surface_pressure', 'total_precipitation', '2m_dewpoint_temperature']\n",
    "\n",
    "meses = ['01', '02', '03', '04', '05', '06', '07', '08', '09', '10', '11', '12']\n",
    "\n",
    "anos = ['2000', '2001', '2002', '2003', '2004', '2005', '2006', '2007', '2008', '2009', '2010',\n",
    "        '2011', '2012', '2013', '2014', '2015', '2016', '2017', '2018', '2019', '2020', '2021',\n",
    "        '2022']\n",
    "\n",
    "for variavel in variaveis:\n",
    "    for mes in meses:\n",
    "        for ano in anos:\n",
    "            c.retrieve(\n",
    "                'reanalysis-era5-land',\n",
    "                {\n",
    "                    'variable': variavel,\n",
    "                    'year': ano,\n",
    "                    'month': mes,\n",
    "                    'day': [\n",
    "                        '01', '02', '03',\n",
    "                        '04', '05', '06',\n",
    "                        '07', '08', '09',\n",
    "                        '10', '11', '12',\n",
    "                        '13', '14', '15',\n",
    "                        '16', '17', '18',\n",
    "                        '19', '20', '21',\n",
    "                        '22', '23', '24',\n",
    "                        '25', '26', '27',\n",
    "                        '28', '29', '30',\n",
    "                        '31',\n",
    "                    ],\n",
    "                    'time': [\n",
    "                        '00:00', '01:00', '02:00',\n",
    "                        '03:00', '04:00', '05:00',\n",
    "                        '06:00', '07:00', '08:00',\n",
    "                        '09:00', '10:00', '11:00',\n",
    "                        '12:00', '13:00', '14:00',\n",
    "                        '15:00', '16:00', '17:00',\n",
    "                        '18:00', '19:00', '20:00',\n",
    "                        '21:00', '22:00', '23:00',\n",
    "                    ],\n",
    "                    'area': [\n",
    "                        -18.87, -52.33, -23.57,\n",
    "                        -46.83,\n",
    "                    ],\n",
    "                    'format': 'netcdf.zip',\n",
    "                },\n",
    "                f'{variavel}_{mes}_{ano}.zip')"
   ]
  }
 ],
 "metadata": {
  "kernelspec": {
   "display_name": "Python 3.9.12 ('base')",
   "language": "python",
   "name": "python3"
  },
  "language_info": {
   "codemirror_mode": {
    "name": "ipython",
    "version": 3
   },
   "file_extension": ".py",
   "mimetype": "text/x-python",
   "name": "python",
   "nbconvert_exporter": "python",
   "pygments_lexer": "ipython3",
   "version": "3.9.12 (main, Apr  5 2022, 06:56:58) \n[GCC 7.5.0]"
  },
  "orig_nbformat": 4,
  "vscode": {
   "interpreter": {
    "hash": "112989f40982219f9c2133127490be09f86560db102a13a350eb86b01002b443"
   }
  }
 },
 "nbformat": 4,
 "nbformat_minor": 2
}
